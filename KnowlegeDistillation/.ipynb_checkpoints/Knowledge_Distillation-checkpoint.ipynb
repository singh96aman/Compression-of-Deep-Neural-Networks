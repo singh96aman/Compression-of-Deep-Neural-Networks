{
 "cells": [
  {
   "cell_type": "code",
   "execution_count": null,
   "metadata": {
    "id": "tfmfHH8U_O9H"
   },
   "outputs": [],
   "source": [
    "#CIFAR10 with Knowledge Transfer\n",
    "\n",
    "#Imports\n",
    "%matplotlib inline\n",
    "from copy import deepcopy\n",
    "from collections import OrderedDict\n",
    "import gc\n",
    "import matplotlib.pyplot as plt\n",
    "from tqdm import tqdm_notebook\n",
    "import numpy as np\n",
    "import pandas as pd\n",
    "import torch\n",
    "import torch.nn as nn\n",
    "import torch.nn.functional as F\n",
    "from torch.optim import SGD,Adam,lr_scheduler\n",
    "from torch.utils.data import random_split\n",
    "import torchvision\n",
    "from torchvision import transforms,models\n",
    "import time\n",
    "import torch.optim as optim\n"
   ]
  },
  {
   "cell_type": "code",
   "execution_count": null,
   "metadata": {
    "colab": {
     "base_uri": "https://localhost:8080/",
     "height": 101,
     "referenced_widgets": [
      "a6f80de11f54406dacf55dc79bc37941",
      "0e4defdf67e24a75a77f62c3088e9192",
      "7339723c890b4bb6aaebdd75a6fd0b1a",
      "bc7e4d82287b4d91911106bf03b57b59",
      "ae716dcbc1d04efca9a77108e71e0556",
      "3b67b6f85dac448c9a655568ddfb424b",
      "53a964848ae84c149f8a0d9ac16a5168",
      "42ca1703afc64edf86c06050d84858dd",
      "4382b2d8405e4f6684eda14395467419",
      "636c076c24054fb6b09eef5756507216",
      "0983ae92d8714644852b79f5bc342ea8"
     ]
    },
    "id": "MlM6vaYg_9P9",
    "outputId": "9fa0f1ce-88da-42a5-ac56-575ba7b86f6d"
   },
   "outputs": [
    {
     "name": "stdout",
     "output_type": "stream",
     "text": [
      "Downloading https://www.cs.toronto.edu/~kriz/cifar-10-python.tar.gz to ./data/cifar-10-python.tar.gz\n"
     ]
    },
    {
     "data": {
      "application/vnd.jupyter.widget-view+json": {
       "model_id": "a6f80de11f54406dacf55dc79bc37941",
       "version_major": 2,
       "version_minor": 0
      },
      "text/plain": [
       "  0%|          | 0/170498071 [00:00<?, ?it/s]"
      ]
     },
     "metadata": {},
     "output_type": "display_data"
    },
    {
     "name": "stdout",
     "output_type": "stream",
     "text": [
      "Extracting ./data/cifar-10-python.tar.gz to ./data\n",
      "Files already downloaded and verified\n"
     ]
    }
   ],
   "source": [
    "#Load CIFAR 10 Dataset\n",
    "transform = transforms.Compose([\n",
    "    transforms.Resize(224),\n",
    "    transforms.RandomHorizontalFlip(p=.40),\n",
    "    transforms.RandomRotation(30),\n",
    "    transforms.ToTensor(),\n",
    "    transforms.Normalize([0.485, 0.456, 0.406], [0.229, 0.224, 0.225])])\n",
    "\n",
    "traindata = torchvision.datasets.CIFAR10(root='./data', train=True,\n",
    "                                        download=True, transform=transform)\n",
    "trainset,valset = random_split(traindata,[42000,8000])\n",
    "trainloader = torch.utils.data.DataLoader(trainset, batch_size=64,shuffle=True)\n",
    "valloader = torch.utils.data.DataLoader(valset, batch_size=64,shuffle=True)\n",
    "\n",
    "testset = torchvision.datasets.CIFAR10(root='./data', train=False,\n",
    "                                       download=True, transform=transform)\n",
    "testloader = torch.utils.data.DataLoader(testset, batch_size=64,shuffle=True)\n",
    "\n",
    "classes = ('plane', 'car', 'bird', 'cat','deer', 'dog', 'frog', 'horse', 'ship', 'truck')"
   ]
  },
  {
   "cell_type": "code",
   "execution_count": null,
   "metadata": {
    "colab": {
     "base_uri": "https://localhost:8080/"
    },
    "id": "1VWby-GR_-1x",
    "outputId": "724750a0-d08d-42a7-c353-c427aab6d1f6"
   },
   "outputs": [
    {
     "name": "stdout",
     "output_type": "stream",
     "text": [
      "cuda:0\n"
     ]
    }
   ],
   "source": [
    "device = torch.device(\"cuda:0\" if torch.cuda.is_available() else \"cpu\")\n",
    "print(device)"
   ]
  },
  {
   "cell_type": "code",
   "execution_count": null,
   "metadata": {
    "colab": {
     "base_uri": "https://localhost:8080/"
    },
    "id": "zhVBYYJnAAHh",
    "outputId": "3950afce-9f9c-4827-c806-096b61695e5c"
   },
   "outputs": [
    {
     "name": "stderr",
     "output_type": "stream",
     "text": [
      "/usr/local/lib/python3.8/dist-packages/torchvision/models/_utils.py:208: UserWarning: The parameter 'pretrained' is deprecated since 0.13 and may be removed in the future, please use 'weights' instead.\n",
      "  warnings.warn(\n",
      "/usr/local/lib/python3.8/dist-packages/torchvision/models/_utils.py:223: UserWarning: Arguments other than a weight enum or `None` for 'weights' are deprecated since 0.13 and may be removed in the future. The current behavior is equivalent to passing `weights=ResNet18_Weights.IMAGENET1K_V1`. You can also use `weights=ResNet18_Weights.DEFAULT` to get the most up-to-date weights.\n",
      "  warnings.warn(msg)\n"
     ]
    }
   ],
   "source": [
    "class Model(nn.Module):\n",
    "    def __init__(self):\n",
    "        super().__init__()\n",
    "        base = models.resnet18(pretrained=True)\n",
    "        self.base = nn.Sequential(*list(base.children())[:-1])\n",
    "        in_features = base.fc.in_features\n",
    "        self.drop = nn.Dropout()\n",
    "        self.final = nn.Linear(in_features,10)\n",
    "    \n",
    "    def forward(self,x):\n",
    "        x = self.base(x)\n",
    "        x = self.drop(x.view(-1,self.final.in_features))\n",
    "        return self.final(x)\n",
    "    \n",
    "teacher = Model().cuda()\n",
    "#state_dict = torch.load('checkpoint.pth')\n",
    "#teacher.load_state_dict(state_dict)"
   ]
  },
  {
   "cell_type": "code",
   "execution_count": null,
   "metadata": {
    "colab": {
     "base_uri": "https://localhost:8080/"
    },
    "id": "U2CtGmGgAeZ0",
    "outputId": "8713b095-dfab-496e-c62e-427efb19fcd3"
   },
   "outputs": [
    {
     "name": "stdout",
     "output_type": "stream",
     "text": [
      "{'model_version': 'cnn_distill', 'subset_percent': 1.0, 'augmentation': 'yes', 'teacher': 'resnet18', 'alpha': 0.9, 'temperature': 20, 'learning_rate': 0.001, 'batch_size': 128, 'num_epochs': 30, 'dropout_rate': 0.5, 'num_channels': 32, 'save_summary_steps': 100, 'num_workers': 4, 'cuda': device(type='cuda', index=0)}\n"
     ]
    }
   ],
   "source": [
    "import numpy as np\n",
    "import torch\n",
    "import torch.nn as nn\n",
    "import torch.nn.functional as F\n",
    "\n",
    "class Net(nn.Module):\n",
    "    def __init__(self, params):\n",
    "        super(Net, self).__init__()\n",
    "        self.num_channels = params[\"num_channels\"]\n",
    "        \n",
    "        self.conv1 = nn.Conv2d(3, self.num_channels, 3, stride=1, padding=1)\n",
    "        self.bn1 = nn.BatchNorm2d(self.num_channels)\n",
    "        self.conv2 = nn.Conv2d(self.num_channels, self.num_channels*2, 3, stride=1, padding=1)\n",
    "        self.bn2 = nn.BatchNorm2d(self.num_channels*2)\n",
    "        self.conv3 = nn.Conv2d(self.num_channels*2, self.num_channels*4, 3, stride=1, padding=1)\n",
    "        self.bn3 = nn.BatchNorm2d(self.num_channels*4)\n",
    "\n",
    "        # 2 fully connected layers to transform the output of the convolution layers to the final output\n",
    "        self.fc1 = nn.Linear(4*4*self.num_channels*4, self.num_channels*4)\n",
    "        self.fcbn1 = nn.BatchNorm1d(self.num_channels*4)\n",
    "        self.fc2 = nn.Linear(4*4*self.num_channels*4*49, 10)      \n",
    "        self.dropout_rate = params[\"dropout_rate\"]\n",
    "\n",
    "    def forward(self, s):\n",
    "        #                                                  -> batch_size x 3 x 32 x 32\n",
    "        s = self.bn1(self.conv1(s))                         # batch_size x num_channels x 32 x 32\n",
    "        s = F.relu(F.max_pool2d(s, 2))                      # batch_size x num_channels x 16 x 16\n",
    "        s = self.bn2(self.conv2(s))                         # batch_size x num_channels*2 x 16 x 16\n",
    "        s = F.relu(F.max_pool2d(s, 2))                      # batch_size x num_channels*2 x 8 x 8\n",
    "        s = self.bn3(self.conv3(s))                         # batch_size x num_channels*4 x 8 x 8\n",
    "        s = F.relu(F.max_pool2d(s, 2))                      # batch_size x num_channels*4 x 4 x 4\n",
    "        s = s.view(-1, 4*4*self.num_channels*4*49)          # batch_size x 4*4*num_channels*4\n",
    "        s = self.fc2(s)                                     # batch_size x 10\n",
    "\n",
    "        return s\n",
    "\n",
    "\n",
    "def loss_fn(outputs, labels):\n",
    "    return nn.CrossEntropyLoss()(outputs, labels)\n",
    "\n",
    "\n",
    "def loss_fn_kd(outputs, labels, teacher_outputs, params):\n",
    "    alpha = params[\"alpha\"]\n",
    "    T = 0.01 #params[\"temperature\"]\n",
    "    KD_loss = nn.KLDivLoss()(F.log_softmax(outputs/T, dim=1),\n",
    "                             F.softmax(teacher_outputs/T, dim=1)) * (alpha * T * T) + \\\n",
    "              F.cross_entropy(outputs, labels) * (1. - alpha)\n",
    "\n",
    "    return KD_loss\n",
    "\n",
    "\n",
    "def accuracy(outputs, labels):\n",
    "    outputs = np.argmax(outputs, axis=1)\n",
    "    return np.sum(outputs==labels)/float(labels.size)\n",
    "\n",
    "\n",
    "# maintain all metrics required in this dictionary- these are used in the training and evaluation loops\n",
    "metrics = {\n",
    "    'accuracy': accuracy,\n",
    "    # could add more metrics such as accuracy for each token type\n",
    "}\n",
    "\n",
    "import json\n",
    "f = \"\"\"{\n",
    "    \"model_version\": \"cnn_distill\",\n",
    "    \"subset_percent\": 1.0,\n",
    "    \"augmentation\": \"yes\",\n",
    "    \"teacher\": \"resnet18\",\n",
    "    \"alpha\": 0.9,\n",
    "    \"temperature\": 20,\n",
    "    \"learning_rate\": 1e-3,\n",
    "    \"batch_size\": 128,\n",
    "    \"num_epochs\": 30,\n",
    "    \"dropout_rate\": 0.5, \n",
    "    \"num_channels\": 32,\n",
    "    \"save_summary_steps\": 100,\n",
    "    \"num_workers\": 4\n",
    "}\"\"\"\n",
    "params = json.loads(f)\n",
    "params[\"cuda\"] = device\n",
    "print(params)\n",
    "#student = net.Net(params).cuda()"
   ]
  },
  {
   "cell_type": "code",
   "execution_count": null,
   "metadata": {
    "colab": {
     "base_uri": "https://localhost:8080/"
    },
    "id": "7xfuDGlcBh0A",
    "outputId": "08c2019a-77c0-4f1c-9b90-1a798c9efde6"
   },
   "outputs": [
    {
     "name": "stdout",
     "output_type": "stream",
     "text": [
      "Net(\n",
      "  (conv1): Conv2d(3, 32, kernel_size=(3, 3), stride=(1, 1), padding=(1, 1))\n",
      "  (bn1): BatchNorm2d(32, eps=1e-05, momentum=0.1, affine=True, track_running_stats=True)\n",
      "  (conv2): Conv2d(32, 64, kernel_size=(3, 3), stride=(1, 1), padding=(1, 1))\n",
      "  (bn2): BatchNorm2d(64, eps=1e-05, momentum=0.1, affine=True, track_running_stats=True)\n",
      "  (conv3): Conv2d(64, 128, kernel_size=(3, 3), stride=(1, 1), padding=(1, 1))\n",
      "  (bn3): BatchNorm2d(128, eps=1e-05, momentum=0.1, affine=True, track_running_stats=True)\n",
      "  (fc1): Linear(in_features=2048, out_features=128, bias=True)\n",
      "  (fcbn1): BatchNorm1d(128, eps=1e-05, momentum=0.1, affine=True, track_running_stats=True)\n",
      "  (fc2): Linear(in_features=100352, out_features=10, bias=True)\n",
      ")\n"
     ]
    }
   ],
   "source": [
    "student1 = Net(params).cuda()\n",
    "#state_dict = torch.load('checkpoint_5_CNN.pth')\n",
    "#student1.load_state_dict(state_dict)\n",
    "#print(student1)\n",
    "student2 = Net(params).cuda()\n",
    "print(student2)"
   ]
  },
  {
   "cell_type": "code",
   "execution_count": null,
   "metadata": {
    "id": "kyLOtk19D31E"
   },
   "outputs": [],
   "source": [
    "criterion = nn.CrossEntropyLoss()\n",
    "optimizer1 = optim.Adam(student1.parameters(), lr=params[\"learning_rate\"])\n",
    "lr_scheduler1 = lr_scheduler.StepLR(optimizer1, step_size=100, gamma=0.1)\n",
    "\n",
    "optimizer2 = optim.Adam(student2.parameters(), lr=params[\"learning_rate\"])\n",
    "lr_scheduler2 = lr_scheduler.StepLR(optimizer2, step_size=150, gamma=0.1)\n",
    "states = {}"
   ]
  },
  {
   "cell_type": "code",
   "execution_count": null,
   "metadata": {
    "id": "aOaiXI8xBjTT"
   },
   "outputs": [],
   "source": [
    "def train_model(model, trainloader, optimizer):\n",
    "  best_val_acc = -1000\n",
    "  best_val_model = None\n",
    "  for epoch in range(10):  \n",
    "      print(\"Epoch -\", epoch)\n",
    "      model.train(True)\n",
    "      running_loss = 0.0\n",
    "      running_acc = 0\n",
    "      for i, data in enumerate(trainloader, 0):\n",
    "          if i%100 == 0:\n",
    "            print(\"Iteration - \", i)\n",
    "          inputs, labels = data\n",
    "          inputs, labels = inputs.cuda(),labels.cuda()\n",
    "\n",
    "          optimizer.zero_grad()\n",
    "          outputs = model(inputs)\n",
    "          loss = loss_fn(outputs, labels)\n",
    "          loss.backward()\n",
    "          optimizer.step()\n",
    "\n",
    "          # print statistics\n",
    "          running_loss += loss.item() * inputs.size(0)\n",
    "          out = torch.argmax(outputs.detach(),dim=1)\n",
    "          assert out.shape==labels.shape\n",
    "          running_acc += (labels==out).sum().item()\n",
    "          if i%100 == 0:\n",
    "            print(f\"Train loss {epoch+1}: {running_loss/len(trainset)},Train Acc:{running_acc*100/len(trainset)}%\")\n",
    "      \n",
    "      correct = 0\n",
    "      model.train(False)\n",
    "      with torch.no_grad():\n",
    "          for inputs,labels in valloader:\n",
    "              out = model(inputs.cuda()).cpu()\n",
    "              out = torch.argmax(out,dim=1)\n",
    "              acc = (out==labels).sum().item()\n",
    "              correct += acc\n",
    "      print(f\"Val accuracy:{correct*100/len(valset)}%\")\n",
    "      if correct>best_val_acc:\n",
    "          best_val_acc = correct\n",
    "          best_val_model = deepcopy(model.state_dict())\n",
    "      lr_scheduler1.step()\n",
    "      \n",
    "  print('Finished Training')\n",
    "  return model\n",
    "#student1 = train_model(student1, trainloader, optimizer1)"
   ]
  },
  {
   "cell_type": "code",
   "execution_count": null,
   "metadata": {
    "colab": {
     "base_uri": "https://localhost:8080/"
    },
    "id": "pAsSlbS39V1z",
    "outputId": "8b31b41a-6078-4e4d-dd35-084aea03637d"
   },
   "outputs": [
    {
     "name": "stdout",
     "output_type": "stream",
     "text": [
      "0\n",
      "100\n",
      "200\n",
      "300\n",
      "400\n",
      "500\n",
      "600\n",
      "0\n",
      "100\n"
     ]
    }
   ],
   "source": [
    "def get_predicted_model(trainloader, device, model):\n",
    "  result = []\n",
    "  for i, (images, targets) in enumerate(trainloader, 0):\n",
    "      if i%100 == 0:\n",
    "          print(i)\n",
    "      images: torch.Tensor = images.to(device)\n",
    "      targets: torch.Tensor = targets.to(device)\n",
    "      result += [model.forward(images).detach().cpu().numpy()]\n",
    "  return result\n",
    "\n",
    "teacher_train_ans = get_predicted_model(trainloader, device, teacher)\n",
    "teacher_val_ans = get_predicted_model(valloader, device, teacher)"
   ]
  },
  {
   "cell_type": "code",
   "execution_count": null,
   "metadata": {
    "colab": {
     "base_uri": "https://localhost:8080/"
    },
    "id": "utuPeT4NCSyD",
    "outputId": "3a04f2b5-026a-4160-c32a-e844d5d542f4"
   },
   "outputs": [
    {
     "name": "stdout",
     "output_type": "stream",
     "text": [
      "Epoch - 0\n",
      "Iteration -  0\n",
      "Train loss 1: 0.00036475372314453123,Train Acc:0.02142857142857143%\n",
      "Iteration -  100\n",
      "Train loss 1: 0.13970682364418394,Train Acc:3.8047619047619046%\n",
      "Iteration -  200\n",
      "Train loss 1: 0.17424881912413098,Train Acc:8.911904761904761%\n",
      "Iteration -  300\n",
      "Train loss 1: 0.2096248653275626,Train Acc:14.14047619047619%\n",
      "Iteration -  400\n",
      "Train loss 1: 0.23815665955770585,Train Acc:20.195238095238096%\n",
      "Iteration -  500\n",
      "Train loss 1: 0.26504785505930584,Train Acc:26.607142857142858%\n",
      "Iteration -  600\n",
      "Train loss 1: 0.29068755199795676,Train Acc:33.20952380952381%\n",
      "Val accuracy:42.85%\n",
      "Epoch - 1\n",
      "Iteration -  0\n",
      "Train loss 2: 0.00025976258232480006,Train Acc:0.07142857142857142%\n",
      "Iteration -  100\n",
      "Train loss 2: 0.024659708954039076,Train Acc:6.761904761904762%\n",
      "Iteration -  200\n",
      "Train loss 2: 0.048418007600875126,Train Acc:13.733333333333333%\n",
      "Iteration -  300\n",
      "Train loss 2: 0.07180464199611118,Train Acc:20.892857142857142%\n",
      "Iteration -  400\n",
      "Train loss 2: 0.09444942508425032,Train Acc:28.264285714285716%\n",
      "Iteration -  500\n",
      "Train loss 2: 0.11633079898925054,Train Acc:35.733333333333334%\n",
      "Iteration -  600\n",
      "Train loss 2: 0.13838139335314434,Train Acc:43.285714285714285%\n",
      "Val accuracy:49.925%\n",
      "Epoch - 2\n",
      "Iteration -  0\n",
      "Train loss 3: 0.00021155720665341332,Train Acc:0.0761904761904762%\n",
      "Iteration -  100\n",
      "Train loss 3: 0.021748138223375593,Train Acc:7.816666666666666%\n",
      "Iteration -  200\n",
      "Train loss 3: 0.04304091288929894,Train Acc:15.6%\n",
      "Iteration -  300\n",
      "Train loss 3: 0.06398183932758512,Train Acc:23.566666666666666%\n",
      "Iteration -  400\n",
      "Train loss 3: 0.08445046986852374,Train Acc:31.75%\n",
      "Iteration -  500\n",
      "Train loss 3: 0.10451061587106614,Train Acc:39.98095238095238%\n",
      "Iteration -  600\n",
      "Train loss 3: 0.12439313856760661,Train Acc:48.18333333333333%\n",
      "Val accuracy:56.625%\n",
      "Epoch - 3\n",
      "Iteration -  0\n",
      "Train loss 4: 0.0002382026854015532,Train Acc:0.05952380952380952%\n",
      "Iteration -  100\n",
      "Train loss 4: 0.01963713862782433,Train Acc:8.519047619047619%\n",
      "Iteration -  200\n",
      "Train loss 4: 0.03884051453499567,Train Acc:17.047619047619047%\n",
      "Iteration -  300\n",
      "Train loss 4: 0.05807259850274949,Train Acc:25.72142857142857%\n",
      "Iteration -  400\n",
      "Train loss 4: 0.0769535139628819,Train Acc:34.516666666666666%\n",
      "Iteration -  500\n",
      "Train loss 4: 0.09577269395192464,Train Acc:43.38809523809524%\n",
      "Iteration -  600\n",
      "Train loss 4: 0.11428389967055548,Train Acc:52.28333333333333%\n",
      "Val accuracy:58.175%\n",
      "Epoch - 4\n",
      "Iteration -  0\n",
      "Train loss 5: 0.00014907218161083402,Train Acc:0.09523809523809523%\n",
      "Iteration -  100\n",
      "Train loss 5: 0.018355473620550972,Train Acc:9.133333333333333%\n",
      "Iteration -  200\n",
      "Train loss 5: 0.036457234904879614,Train Acc:18.13809523809524%\n",
      "Iteration -  300\n",
      "Train loss 5: 0.05444138630231222,Train Acc:27.15714285714286%\n",
      "Iteration -  400\n",
      "Train loss 5: 0.07213617347535634,Train Acc:36.39523809523809%\n",
      "Iteration -  500\n",
      "Train loss 5: 0.0896684966541472,Train Acc:45.67142857142857%\n",
      "Iteration -  600\n",
      "Train loss 5: 0.10708570046651932,Train Acc:55.107142857142854%\n",
      "Val accuracy:60.3875%\n",
      "Epoch - 5\n",
      "Iteration -  0\n",
      "Train loss 6: 0.00015582687514168877,Train Acc:0.1%\n",
      "Iteration -  100\n",
      "Train loss 6: 0.017221693107060024,Train Acc:9.588095238095239%\n",
      "Iteration -  200\n",
      "Train loss 6: 0.034159326360339214,Train Acc:19.01904761904762%\n",
      "Iteration -  300\n",
      "Train loss 6: 0.0510615629922776,Train Acc:28.616666666666667%\n",
      "Iteration -  400\n",
      "Train loss 6: 0.06802492938722883,Train Acc:38.09047619047619%\n",
      "Iteration -  500\n",
      "Train loss 6: 0.08499177852131072,Train Acc:47.60952380952381%\n",
      "Iteration -  600\n",
      "Train loss 6: 0.10174141729445685,Train Acc:57.15952380952381%\n",
      "Val accuracy:63.4%\n",
      "Epoch - 6\n",
      "Iteration -  0\n",
      "Train loss 7: 0.0001700587272644043,Train Acc:0.09285714285714286%\n",
      "Iteration -  100\n",
      "Train loss 7: 0.01623299697467259,Train Acc:9.85952380952381%\n",
      "Iteration -  200\n",
      "Train loss 7: 0.032670327186584476,Train Acc:19.523809523809526%\n",
      "Iteration -  300\n",
      "Train loss 7: 0.04860595146814982,Train Acc:29.39761904761905%\n",
      "Iteration -  400\n",
      "Train loss 7: 0.06478776201747713,Train Acc:39.26904761904762%\n",
      "Iteration -  500\n",
      "Train loss 7: 0.08099128257660639,Train Acc:48.92142857142857%\n",
      "Iteration -  600\n",
      "Train loss 7: 0.09710449534370785,Train Acc:58.73095238095238%\n",
      "Val accuracy:64.075%\n",
      "Epoch - 7\n",
      "Iteration -  0\n",
      "Train loss 8: 0.00016057338033403668,Train Acc:0.10238095238095238%\n",
      "Iteration -  100\n",
      "Train loss 8: 0.015861642723991758,Train Acc:10.052380952380952%\n",
      "Iteration -  200\n",
      "Train loss 8: 0.031530486935660955,Train Acc:20.042857142857144%\n",
      "Iteration -  300\n",
      "Train loss 8: 0.04712669865290324,Train Acc:30.021428571428572%\n",
      "Iteration -  400\n",
      "Train loss 8: 0.06277857461429777,Train Acc:39.98095238095238%\n",
      "Iteration -  500\n",
      "Train loss 8: 0.07826650348163787,Train Acc:50.07142857142857%\n",
      "Iteration -  600\n",
      "Train loss 8: 0.09401216908863613,Train Acc:59.93571428571428%\n",
      "Val accuracy:65.3125%\n",
      "Epoch - 8\n",
      "Iteration -  0\n",
      "Train loss 9: 0.00015206767263866607,Train Acc:0.10714285714285714%\n",
      "Iteration -  100\n",
      "Train loss 9: 0.015189721209662301,Train Acc:10.297619047619047%\n",
      "Iteration -  200\n",
      "Train loss 9: 0.029934994947342645,Train Acc:20.673809523809524%\n",
      "Iteration -  300\n",
      "Train loss 9: 0.0452593792733692,Train Acc:30.821428571428573%\n",
      "Iteration -  400\n",
      "Train loss 9: 0.06035693060784113,Train Acc:41.016666666666666%\n",
      "Iteration -  500\n",
      "Train loss 9: 0.07509431409835815,Train Acc:51.32857142857143%\n",
      "Iteration -  600\n",
      "Train loss 9: 0.09046797937438601,Train Acc:61.36904761904762%\n",
      "Val accuracy:65.6375%\n",
      "Epoch - 9\n",
      "Iteration -  0\n",
      "Train loss 10: 0.00013719828923543294,Train Acc:0.1%\n",
      "Iteration -  100\n",
      "Train loss 10: 0.014819034667242142,Train Acc:10.511904761904763%\n",
      "Iteration -  200\n",
      "Train loss 10: 0.029701929728190104,Train Acc:20.797619047619047%\n",
      "Iteration -  300\n",
      "Train loss 10: 0.044417874915259226,Train Acc:31.15%\n",
      "Iteration -  400\n",
      "Train loss 10: 0.05919181379250118,Train Acc:41.45238095238095%\n",
      "Iteration -  500\n",
      "Train loss 10: 0.07374790926774343,Train Acc:51.81190476190476%\n",
      "Iteration -  600\n",
      "Train loss 10: 0.08866448672044845,Train Acc:62.11904761904762%\n",
      "Val accuracy:67.7%\n",
      "Finished Training\n"
     ]
    }
   ],
   "source": [
    "def train_model_student(model, trainloader, optimizer, teacher_train_ans, params):\n",
    "  best_val_acc = -1000\n",
    "  best_val_model = None\n",
    "  for epoch in range(10):  \n",
    "      print(\"Epoch -\", epoch)\n",
    "      model.train(True)\n",
    "      running_loss = 0.0\n",
    "      running_acc = 0\n",
    "      for i, data in enumerate(trainloader, 0):\n",
    "          if i%100 == 0:\n",
    "            print(\"Iteration - \", i)\n",
    "          inputs, labels = data\n",
    "          inputs, labels = inputs.cuda(),labels.cuda()\n",
    "\n",
    "          optimizer.zero_grad()\n",
    "          outputs = model(inputs)\n",
    "          loss = loss_fn_kd(outputs, labels, torch.from_numpy(teacher_train_ans[i]).cuda(), params)\n",
    "          loss.backward()\n",
    "          optimizer.step()\n",
    "\n",
    "          # print statistics\n",
    "          running_loss += loss.item() * inputs.size(0)\n",
    "          out = torch.argmax(outputs.detach(),dim=1)\n",
    "          assert out.shape==labels.shape\n",
    "          running_acc += (labels==out).sum().item()\n",
    "          if i%100 == 0:\n",
    "            print(f\"Train loss {epoch+1}: {running_loss/len(trainset)},Train Acc:{running_acc*100/len(trainset)}%\")\n",
    "      \n",
    "      correct = 0\n",
    "      model.train(False)\n",
    "      with torch.no_grad():\n",
    "          for inputs,labels in valloader:\n",
    "              out = model(inputs.cuda()).cpu()\n",
    "              out = torch.argmax(out,dim=1)\n",
    "              acc = (out==labels).sum().item()\n",
    "              correct += acc\n",
    "      print(f\"Val accuracy:{correct*100/len(valset)}%\")\n",
    "      if correct>best_val_acc:\n",
    "          best_val_acc = correct\n",
    "          best_val_model = deepcopy(model.state_dict())\n",
    "      lr_scheduler2.step()\n",
    "      \n",
    "  print('Finished Training')\n",
    "  return model\n",
    "student2 = train_model_student(student2, trainloader, optimizer2, teacher_train_ans, params)"
   ]
  },
  {
   "cell_type": "code",
   "execution_count": null,
   "metadata": {
    "id": "xTh5cbZ-AUPf"
   },
   "outputs": [],
   "source": [
    "torch.save(student2.state_dict(), 'checkpoint_5_CNN_distilled_T_0_0_1.pth')"
   ]
  },
  {
   "cell_type": "code",
   "execution_count": null,
   "metadata": {
    "id": "zxL4tn229Mo4"
   },
   "outputs": [],
   "source": [
    "def get_model_accuracy(model, valloader):\n",
    "  correct = 0\n",
    "  model.train(False)\n",
    "  with torch.no_grad():\n",
    "    for inputs,labels in valloader:\n",
    "      out = model(inputs.cuda()).cpu()\n",
    "      out = torch.argmax(out,dim=1)\n",
    "      acc = (out==labels).sum().item()\n",
    "      correct += acc\n",
    "  print(f\"Val accuracy:{correct*100/len(valset)}%\")"
   ]
  },
  {
   "cell_type": "code",
   "execution_count": null,
   "metadata": {
    "colab": {
     "base_uri": "https://localhost:8080/"
    },
    "id": "11eVrMItACCD",
    "outputId": "ed785df9-44f6-4b0e-bd3e-6a60a77a30b7"
   },
   "outputs": [
    {
     "name": "stdout",
     "output_type": "stream",
     "text": [
      "Val accuracy:96.8125%\n",
      "Val accuracy:67.2%\n"
     ]
    }
   ],
   "source": [
    "get_model_accuracy(teacher, valloader)\n",
    "#get_model_accuracy(student1, valloader)\n",
    "get_model_accuracy(student2, valloader)"
   ]
  },
  {
   "cell_type": "code",
   "execution_count": null,
   "metadata": {
    "colab": {
     "base_uri": "https://localhost:8080/"
    },
    "id": "v6x53TR8AETJ",
    "outputId": "4d876808-db60-4059-bf28-a9abbbf8a386"
   },
   "outputs": [
    {
     "name": "stdout",
     "output_type": "stream",
     "text": [
      "model size: 42.691MB\n"
     ]
    }
   ],
   "source": [
    "#Get Teacher Accuracy\n",
    "param_size = 0\n",
    "for param in teacher.parameters():\n",
    "    param_size += param.nelement() * param.element_size()\n",
    "buffer_size = 0\n",
    "for buffer in teacher.buffers():\n",
    "    buffer_size += buffer.nelement() * buffer.element_size()\n",
    "\n",
    "size_all_mb = (param_size + buffer_size) / 1024**2\n",
    "print('model size: {:.3f}MB'.format(size_all_mb))"
   ]
  },
  {
   "cell_type": "code",
   "execution_count": null,
   "metadata": {
    "colab": {
     "base_uri": "https://localhost:8080/"
    },
    "id": "x3DcZEWVQukb",
    "outputId": "474974d0-fabb-4f9c-8652-9c90cffba912"
   },
   "outputs": [
    {
     "name": "stdout",
     "output_type": "stream",
     "text": [
      "model size: 5.190MB\n"
     ]
    }
   ],
   "source": [
    "param_size = 0\n",
    "for param in student1.parameters():\n",
    "    param_size += param.nelement() * param.element_size()\n",
    "buffer_size = 0\n",
    "for buffer in student1.buffers():\n",
    "    buffer_size += buffer.nelement() * buffer.element_size()\n",
    "\n",
    "size_all_mb = (param_size + buffer_size) / 1024**2\n",
    "print('model size: {:.3f}MB'.format(size_all_mb))"
   ]
  },
  {
   "cell_type": "code",
   "execution_count": null,
   "metadata": {
    "colab": {
     "base_uri": "https://localhost:8080/"
    },
    "id": "VPFC8pBsQxPY",
    "outputId": "50c3a832-b140-45cc-e6d8-aec13969ac0c"
   },
   "outputs": [
    {
     "name": "stdout",
     "output_type": "stream",
     "text": [
      "model size: 5.190MB\n"
     ]
    }
   ],
   "source": [
    "param_size = 0\n",
    "for param in student2.parameters():\n",
    "    param_size += param.nelement() * param.element_size()\n",
    "buffer_size = 0\n",
    "for buffer in student2.buffers():\n",
    "    buffer_size += buffer.nelement() * buffer.element_size()\n",
    "\n",
    "size_all_mb = (param_size + buffer_size) / 1024**2\n",
    "print('model size: {:.3f}MB'.format(size_all_mb))"
   ]
  },
  {
   "cell_type": "code",
   "execution_count": null,
   "metadata": {
    "id": "auG5ZI1CQ095"
   },
   "outputs": [],
   "source": [
    "torch.save(student2.state_dict(), 'checkpoint_5_CNN2.pth')"
   ]
  },
  {
   "cell_type": "code",
   "execution_count": null,
   "metadata": {
    "colab": {
     "base_uri": "https://localhost:8080/"
    },
    "id": "F3idL3bUoZLV",
    "outputId": "650e7031-f601-46e2-c4bf-b6cae8c226d6"
   },
   "outputs": [
    {
     "name": "stdout",
     "output_type": "stream",
     "text": [
      "Net(\n",
      "  (conv1): Conv2d(3, 32, kernel_size=(3, 3), stride=(1, 1), padding=(1, 1))\n",
      "  (bn1): BatchNorm2d(32, eps=1e-05, momentum=0.1, affine=True, track_running_stats=True)\n",
      "  (conv2): Conv2d(32, 64, kernel_size=(3, 3), stride=(1, 1), padding=(1, 1))\n",
      "  (bn2): BatchNorm2d(64, eps=1e-05, momentum=0.1, affine=True, track_running_stats=True)\n",
      "  (conv3): Conv2d(64, 128, kernel_size=(3, 3), stride=(1, 1), padding=(1, 1))\n",
      "  (bn3): BatchNorm2d(128, eps=1e-05, momentum=0.1, affine=True, track_running_stats=True)\n",
      "  (fc1): Linear(in_features=2048, out_features=128, bias=True)\n",
      "  (fcbn1): BatchNorm1d(128, eps=1e-05, momentum=0.1, affine=True, track_running_stats=True)\n",
      "  (fc2): Linear(in_features=100352, out_features=10, bias=True)\n",
      ")\n",
      "mean prediction latency: 2.4872451171875\n",
      "Test accuracy: 66.67%\n",
      "CPU times: user 24.4 s, sys: 642 ms, total: 25 s\n",
      "Wall time: 24.9 s\n"
     ]
    }
   ],
   "source": [
    "%%time\n",
    "#Latency Test\n",
    "#KD loaded from checkpoint wit T=0.01\n",
    "\n",
    "model = Net(params).cuda()\n",
    "state_dict = torch.load('checkpoint_5_CNN_distilled_T_0_0_1.pth')\n",
    "model.load_state_dict(state_dict)\n",
    "print(model)\n",
    "\n",
    "starter, ender = torch.cuda.Event(enable_timing=True), torch.cuda.Event(enable_timing=True)\n",
    "repetitions = len(testset)\n",
    "timings=np.zeros((repetitions,1))\n",
    "\n",
    "epoch=0\n",
    "\n",
    "correct = 0\n",
    "model.train(False)\n",
    "with torch.no_grad():\n",
    "    starter.record()\n",
    "    for inputs,labels in testloader:\n",
    "        out = model(inputs.cuda()).cpu()\n",
    "        out = torch.argmax(out,dim=1)\n",
    "        acc = (out==labels).sum().item()\n",
    "        correct += acc\n",
    "    ender.record()\n",
    "    torch.cuda.synchronize()\n",
    "    curr_time = starter.elapsed_time(ender)\n",
    "    timings[epoch] = curr_time\n",
    "    epoch+=1\n",
    "    \n",
    "    \n",
    "mean_syn = np.sum(timings) / repetitions\n",
    "std_syn = np.std(timings)\n",
    "print(f'mean prediction latency: {mean_syn}')\n",
    "print(f\"Test accuracy: {correct*100/len(testset)}%\")"
   ]
  },
  {
   "cell_type": "code",
   "execution_count": null,
   "metadata": {
    "id": "6_U354xFsT40"
   },
   "outputs": [],
   "source": []
  }
 ],
 "metadata": {
  "accelerator": "GPU",
  "colab": {
   "provenance": []
  },
  "gpuClass": "standard",
  "kernelspec": {
   "display_name": "Python 3",
   "name": "python3"
  },
  "language_info": {
   "name": "python"
  },
  "widgets": {
   "application/vnd.jupyter.widget-state+json": {
    "0983ae92d8714644852b79f5bc342ea8": {
     "model_module": "@jupyter-widgets/controls",
     "model_module_version": "1.5.0",
     "model_name": "DescriptionStyleModel",
     "state": {
      "_model_module": "@jupyter-widgets/controls",
      "_model_module_version": "1.5.0",
      "_model_name": "DescriptionStyleModel",
      "_view_count": null,
      "_view_module": "@jupyter-widgets/base",
      "_view_module_version": "1.2.0",
      "_view_name": "StyleView",
      "description_width": ""
     }
    },
    "0e4defdf67e24a75a77f62c3088e9192": {
     "model_module": "@jupyter-widgets/controls",
     "model_module_version": "1.5.0",
     "model_name": "HTMLModel",
     "state": {
      "_dom_classes": [],
      "_model_module": "@jupyter-widgets/controls",
      "_model_module_version": "1.5.0",
      "_model_name": "HTMLModel",
      "_view_count": null,
      "_view_module": "@jupyter-widgets/controls",
      "_view_module_version": "1.5.0",
      "_view_name": "HTMLView",
      "description": "",
      "description_tooltip": null,
      "layout": "IPY_MODEL_3b67b6f85dac448c9a655568ddfb424b",
      "placeholder": "​",
      "style": "IPY_MODEL_53a964848ae84c149f8a0d9ac16a5168",
      "value": "100%"
     }
    },
    "3b67b6f85dac448c9a655568ddfb424b": {
     "model_module": "@jupyter-widgets/base",
     "model_module_version": "1.2.0",
     "model_name": "LayoutModel",
     "state": {
      "_model_module": "@jupyter-widgets/base",
      "_model_module_version": "1.2.0",
      "_model_name": "LayoutModel",
      "_view_count": null,
      "_view_module": "@jupyter-widgets/base",
      "_view_module_version": "1.2.0",
      "_view_name": "LayoutView",
      "align_content": null,
      "align_items": null,
      "align_self": null,
      "border": null,
      "bottom": null,
      "display": null,
      "flex": null,
      "flex_flow": null,
      "grid_area": null,
      "grid_auto_columns": null,
      "grid_auto_flow": null,
      "grid_auto_rows": null,
      "grid_column": null,
      "grid_gap": null,
      "grid_row": null,
      "grid_template_areas": null,
      "grid_template_columns": null,
      "grid_template_rows": null,
      "height": null,
      "justify_content": null,
      "justify_items": null,
      "left": null,
      "margin": null,
      "max_height": null,
      "max_width": null,
      "min_height": null,
      "min_width": null,
      "object_fit": null,
      "object_position": null,
      "order": null,
      "overflow": null,
      "overflow_x": null,
      "overflow_y": null,
      "padding": null,
      "right": null,
      "top": null,
      "visibility": null,
      "width": null
     }
    },
    "42ca1703afc64edf86c06050d84858dd": {
     "model_module": "@jupyter-widgets/base",
     "model_module_version": "1.2.0",
     "model_name": "LayoutModel",
     "state": {
      "_model_module": "@jupyter-widgets/base",
      "_model_module_version": "1.2.0",
      "_model_name": "LayoutModel",
      "_view_count": null,
      "_view_module": "@jupyter-widgets/base",
      "_view_module_version": "1.2.0",
      "_view_name": "LayoutView",
      "align_content": null,
      "align_items": null,
      "align_self": null,
      "border": null,
      "bottom": null,
      "display": null,
      "flex": null,
      "flex_flow": null,
      "grid_area": null,
      "grid_auto_columns": null,
      "grid_auto_flow": null,
      "grid_auto_rows": null,
      "grid_column": null,
      "grid_gap": null,
      "grid_row": null,
      "grid_template_areas": null,
      "grid_template_columns": null,
      "grid_template_rows": null,
      "height": null,
      "justify_content": null,
      "justify_items": null,
      "left": null,
      "margin": null,
      "max_height": null,
      "max_width": null,
      "min_height": null,
      "min_width": null,
      "object_fit": null,
      "object_position": null,
      "order": null,
      "overflow": null,
      "overflow_x": null,
      "overflow_y": null,
      "padding": null,
      "right": null,
      "top": null,
      "visibility": null,
      "width": null
     }
    },
    "4382b2d8405e4f6684eda14395467419": {
     "model_module": "@jupyter-widgets/controls",
     "model_module_version": "1.5.0",
     "model_name": "ProgressStyleModel",
     "state": {
      "_model_module": "@jupyter-widgets/controls",
      "_model_module_version": "1.5.0",
      "_model_name": "ProgressStyleModel",
      "_view_count": null,
      "_view_module": "@jupyter-widgets/base",
      "_view_module_version": "1.2.0",
      "_view_name": "StyleView",
      "bar_color": null,
      "description_width": ""
     }
    },
    "53a964848ae84c149f8a0d9ac16a5168": {
     "model_module": "@jupyter-widgets/controls",
     "model_module_version": "1.5.0",
     "model_name": "DescriptionStyleModel",
     "state": {
      "_model_module": "@jupyter-widgets/controls",
      "_model_module_version": "1.5.0",
      "_model_name": "DescriptionStyleModel",
      "_view_count": null,
      "_view_module": "@jupyter-widgets/base",
      "_view_module_version": "1.2.0",
      "_view_name": "StyleView",
      "description_width": ""
     }
    },
    "636c076c24054fb6b09eef5756507216": {
     "model_module": "@jupyter-widgets/base",
     "model_module_version": "1.2.0",
     "model_name": "LayoutModel",
     "state": {
      "_model_module": "@jupyter-widgets/base",
      "_model_module_version": "1.2.0",
      "_model_name": "LayoutModel",
      "_view_count": null,
      "_view_module": "@jupyter-widgets/base",
      "_view_module_version": "1.2.0",
      "_view_name": "LayoutView",
      "align_content": null,
      "align_items": null,
      "align_self": null,
      "border": null,
      "bottom": null,
      "display": null,
      "flex": null,
      "flex_flow": null,
      "grid_area": null,
      "grid_auto_columns": null,
      "grid_auto_flow": null,
      "grid_auto_rows": null,
      "grid_column": null,
      "grid_gap": null,
      "grid_row": null,
      "grid_template_areas": null,
      "grid_template_columns": null,
      "grid_template_rows": null,
      "height": null,
      "justify_content": null,
      "justify_items": null,
      "left": null,
      "margin": null,
      "max_height": null,
      "max_width": null,
      "min_height": null,
      "min_width": null,
      "object_fit": null,
      "object_position": null,
      "order": null,
      "overflow": null,
      "overflow_x": null,
      "overflow_y": null,
      "padding": null,
      "right": null,
      "top": null,
      "visibility": null,
      "width": null
     }
    },
    "7339723c890b4bb6aaebdd75a6fd0b1a": {
     "model_module": "@jupyter-widgets/controls",
     "model_module_version": "1.5.0",
     "model_name": "FloatProgressModel",
     "state": {
      "_dom_classes": [],
      "_model_module": "@jupyter-widgets/controls",
      "_model_module_version": "1.5.0",
      "_model_name": "FloatProgressModel",
      "_view_count": null,
      "_view_module": "@jupyter-widgets/controls",
      "_view_module_version": "1.5.0",
      "_view_name": "ProgressView",
      "bar_style": "success",
      "description": "",
      "description_tooltip": null,
      "layout": "IPY_MODEL_42ca1703afc64edf86c06050d84858dd",
      "max": 170498071,
      "min": 0,
      "orientation": "horizontal",
      "style": "IPY_MODEL_4382b2d8405e4f6684eda14395467419",
      "value": 170498071
     }
    },
    "a6f80de11f54406dacf55dc79bc37941": {
     "model_module": "@jupyter-widgets/controls",
     "model_module_version": "1.5.0",
     "model_name": "HBoxModel",
     "state": {
      "_dom_classes": [],
      "_model_module": "@jupyter-widgets/controls",
      "_model_module_version": "1.5.0",
      "_model_name": "HBoxModel",
      "_view_count": null,
      "_view_module": "@jupyter-widgets/controls",
      "_view_module_version": "1.5.0",
      "_view_name": "HBoxView",
      "box_style": "",
      "children": [
       "IPY_MODEL_0e4defdf67e24a75a77f62c3088e9192",
       "IPY_MODEL_7339723c890b4bb6aaebdd75a6fd0b1a",
       "IPY_MODEL_bc7e4d82287b4d91911106bf03b57b59"
      ],
      "layout": "IPY_MODEL_ae716dcbc1d04efca9a77108e71e0556"
     }
    },
    "ae716dcbc1d04efca9a77108e71e0556": {
     "model_module": "@jupyter-widgets/base",
     "model_module_version": "1.2.0",
     "model_name": "LayoutModel",
     "state": {
      "_model_module": "@jupyter-widgets/base",
      "_model_module_version": "1.2.0",
      "_model_name": "LayoutModel",
      "_view_count": null,
      "_view_module": "@jupyter-widgets/base",
      "_view_module_version": "1.2.0",
      "_view_name": "LayoutView",
      "align_content": null,
      "align_items": null,
      "align_self": null,
      "border": null,
      "bottom": null,
      "display": null,
      "flex": null,
      "flex_flow": null,
      "grid_area": null,
      "grid_auto_columns": null,
      "grid_auto_flow": null,
      "grid_auto_rows": null,
      "grid_column": null,
      "grid_gap": null,
      "grid_row": null,
      "grid_template_areas": null,
      "grid_template_columns": null,
      "grid_template_rows": null,
      "height": null,
      "justify_content": null,
      "justify_items": null,
      "left": null,
      "margin": null,
      "max_height": null,
      "max_width": null,
      "min_height": null,
      "min_width": null,
      "object_fit": null,
      "object_position": null,
      "order": null,
      "overflow": null,
      "overflow_x": null,
      "overflow_y": null,
      "padding": null,
      "right": null,
      "top": null,
      "visibility": null,
      "width": null
     }
    },
    "bc7e4d82287b4d91911106bf03b57b59": {
     "model_module": "@jupyter-widgets/controls",
     "model_module_version": "1.5.0",
     "model_name": "HTMLModel",
     "state": {
      "_dom_classes": [],
      "_model_module": "@jupyter-widgets/controls",
      "_model_module_version": "1.5.0",
      "_model_name": "HTMLModel",
      "_view_count": null,
      "_view_module": "@jupyter-widgets/controls",
      "_view_module_version": "1.5.0",
      "_view_name": "HTMLView",
      "description": "",
      "description_tooltip": null,
      "layout": "IPY_MODEL_636c076c24054fb6b09eef5756507216",
      "placeholder": "​",
      "style": "IPY_MODEL_0983ae92d8714644852b79f5bc342ea8",
      "value": " 170498071/170498071 [00:04&lt;00:00, 50988787.50it/s]"
     }
    }
   }
  }
 },
 "nbformat": 4,
 "nbformat_minor": 0
}
